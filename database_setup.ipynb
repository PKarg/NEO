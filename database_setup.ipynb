{
 "cells": [
  {
   "cell_type": "code",
   "execution_count": 9,
   "metadata": {
    "collapsed": true
   },
   "outputs": [],
   "source": [
    "import re\n",
    "import pathlib\n",
    "\n",
    "import requests\n",
    "import sqlite3\n",
    "from lxml import html\n",
    "\n",
    "# SETUP PATH CONSTANTS\n",
    "\n",
    "if not pathlib.Path(\"raw_data\").exists():\n",
    "    pathlib.Path(\"raw_data\").mkdir()\n",
    "\n",
    "RAW_DATA_DIRECTORY = pathlib.Path(\"raw_data\")\n",
    "RAW_DATA_FILENAME = pathlib.Path(\"neodys.cat\")\n",
    "RAW_DATA_PATH = RAW_DATA_DIRECTORY / RAW_DATA_FILENAME\n",
    "\n",
    "DATA_SOURCE_MAIN_PAGE_URL = \"https://newton.spacedys.com/neodys/index.php?pc=1.0\"\n",
    "DATA_SOURCE_FILE_URL = \"https://newton.spacedys.com/~neodys2/neodys.cat\""
   ]
  },
  {
   "cell_type": "code",
   "execution_count": 12,
   "outputs": [
    {
     "name": "stdout",
     "output_type": "stream",
     "text": [
      "Page responded with 200 status code\n",
      "Current number of known NEOs: 30963\n"
     ]
    },
    {
     "name": "stderr",
     "output_type": "stream",
     "text": [
      "IOPub data rate exceeded.\n",
      "The notebook server will temporarily stop sending output\n",
      "to the client in order to avoid crashing it.\n",
      "To change this limit, set the config variable\n",
      "`--NotebookApp.iopub_data_rate_limit`.\n",
      "\n",
      "Current values:\n",
      "NotebookApp.iopub_data_rate_limit=1000000.0 (bytes/sec)\n",
      "NotebookApp.rate_limit_window=3.0 (secs)\n",
      "\n"
     ]
    }
   ],
   "source": [
    "# 1. GET DATA FROM PAGE\n",
    "\n",
    "# check if main page responds correctly\n",
    "response = requests.get(url=DATA_SOURCE_MAIN_PAGE_URL, timeout=10)\n",
    "\n",
    "if not response:\n",
    "    print(f\"Failed to connect to page {DATA_SOURCE_MAIN_PAGE_URL}\")\n",
    "else:\n",
    "    print(f\"Page responded with {response.status_code} status code\")\n",
    "    page_tree = html.fromstring(response.text)\n",
    "    current_neos: str = page_tree.xpath(\"//p[@align='center']/b/text()\")[0]\n",
    "    current_neos_number: int = int(re.sub('\\D', '', current_neos))\n",
    "    print(f\"Current number of known NEOs: {current_neos_number}\")\n",
    "\n",
    "# get file containing the data\n",
    "response = requests.get(url=DATA_SOURCE_FILE_URL, timeout=10)\n",
    "print(f\"Response status code when fetching file with data: {response.status_code}\")\n",
    "\n",
    "if not response:\n",
    "    print(f\"No response from {DATA_SOURCE_FILE_URL}\")\n",
    "\n",
    "elif response.status_code < 200 or response.status_code > 299:\n",
    "    print(f\"Page responded with: {response.status_code}\")\n",
    "\n",
    "elif 200 <= response.status_code < 300:\n",
    "    print(f\"Successfully fetched data: status {response.status_code}\")\n",
    "    with open(RAW_DATA_PATH, mode=\"wb+\") as data_file:\n",
    "        data_file.write(response.content)\n"
   ],
   "metadata": {
    "collapsed": false
   }
  },
  {
   "cell_type": "code",
   "execution_count": 10,
   "outputs": [],
   "source": [],
   "metadata": {
    "collapsed": false
   }
  }
 ],
 "metadata": {
  "kernelspec": {
   "display_name": "Python 3",
   "language": "python",
   "name": "python3"
  },
  "language_info": {
   "codemirror_mode": {
    "name": "ipython",
    "version": 2
   },
   "file_extension": ".py",
   "mimetype": "text/x-python",
   "name": "python",
   "nbconvert_exporter": "python",
   "pygments_lexer": "ipython2",
   "version": "2.7.6"
  }
 },
 "nbformat": 4,
 "nbformat_minor": 0
}
